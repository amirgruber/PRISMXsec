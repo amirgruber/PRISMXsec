{
 "cells": [
  {
   "cell_type": "code",
   "execution_count": null,
   "id": "2ce87c4a",
   "metadata": {},
   "outputs": [],
   "source": [
    "# This notebook is used to iteratively generate flux inputs for NuWro by randomly sampling a perfect gaussian flux."
   ]
  },
  {
   "cell_type": "code",
   "execution_count": null,
   "id": "9db01853",
   "metadata": {},
   "outputs": [],
   "source": [
    "import ROOT\n",
    "%jsroot on"
   ]
  },
  {
   "cell_type": "code",
   "execution_count": null,
   "id": "07632bb0",
   "metadata": {},
   "outputs": [],
   "source": [
    "# Input (in the format of lists)\n",
    "gaussian_means = [0.25+i*0.125 for i in range(18)]\n",
    "gaussian_widths = [0.0001]"
   ]
  },
  {
   "cell_type": "code",
   "execution_count": null,
   "id": "d3809598",
   "metadata": {},
   "outputs": [],
   "source": [
    "#Loop\n",
    "for loc in gaussian_means:\n",
    "    for width in [gaussian_widths:\n",
    "        w = str(width)\n",
    "        l = str(loc)\n",
    "        wfile = w.replace(\".\", \"\")\n",
    "        lfile = l.replace(\".\",\"\")\n",
    "        gausFlux1 = ROOT.TF1(\"gausFlux1\",\"exp(-0.5*((x-\"+l+\")/\"+w+\")**2)\", 0, 2)\n",
    "        h1 = ROOT.TH1F(\"gausFlux\"+lfile+\"l\"+wfile+\"w\",\"h1\",200,0,2)\n",
    "        h1.FillRandom(\"gausFlux1\",500000)\n",
    "        file = ROOT.TFile.Open(\"gausFlux\"+lfile+\"l\"+wfile+\"w.root\",\"RECREATE\")\n",
    "        file.cd()\n",
    "        h1.Write()\n",
    "        file.Close()"
   ]
  }
 ],
 "metadata": {
  "kernelspec": {
   "display_name": "Python 3",
   "language": "python",
   "name": "python3"
  },
  "language_info": {
   "codemirror_mode": {
    "name": "ipython",
    "version": 3
   },
   "file_extension": ".py",
   "mimetype": "text/x-python",
   "name": "python",
   "nbconvert_exporter": "python",
   "pygments_lexer": "ipython3",
   "version": "3.9.12"
  }
 },
 "nbformat": 4,
 "nbformat_minor": 5
}
