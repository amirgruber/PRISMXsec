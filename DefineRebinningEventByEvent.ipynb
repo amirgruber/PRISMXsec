{
 "cells": [
  {
   "cell_type": "code",
   "execution_count": null,
   "id": "6806af5f",
   "metadata": {},
   "outputs": [],
   "source": [
    "# The bins in our ND flux estimation and in our ND flux uncertainties don't match, so we redistribute the events\n",
    "# in our NuWro samples event by event - each event in an off-axis position sample is randomly assigned to the bins\n",
    "# it overlaps with. This means we assume that the change in the nominal flux between\n",
    "# adjacent off-axis bins is negligible.\n",
    "# Prerequisites:\n",
    "# 1) A .csv file with energy bin center values, extracted from the TH2Jagged, called BinCenters.csv\n",
    "# 2) A .csv file with energy bin width values, extracted from the TH2Jagged, called BinWidths.csv"
   ]
  },
  {
   "cell_type": "code",
   "execution_count": null,
   "id": "24c6dfdb",
   "metadata": {},
   "outputs": [],
   "source": [
    "from bisect import bisect as bisect\n",
    "import numpy as np\n",
    "from csv import reader\n",
    "import numpy.random as rnd\n",
    "import ROOT\n",
    "import os\n",
    "import time\n",
    "\n",
    "%jsroot on"
   ]
  },
  {
   "cell_type": "code",
   "execution_count": null,
   "id": "69e2da73",
   "metadata": {},
   "outputs": [],
   "source": [
    "centers = []\n",
    "\n",
    "with open('BinCenters.csv', 'r') as read_obj:\n",
    "    csv_reader = reader(read_obj)\n",
    "    for row in csv_reader:\n",
    "        centers.append(1000*np.array(row).astype(float)[1:])\n",
    "centers = centers[1:-1]\n",
    "\n",
    "widths = []\n",
    "\n",
    "with open('BinWidths.csv', 'r') as read_obj:\n",
    "    csv_reader = reader(read_obj)\n",
    "    for row in csv_reader:\n",
    "        widths.append(1000*np.array(row).astype(float)[1:])\n",
    "widths = [np.array(widths[i])/2 for i in range(len(widths))][1:-1]\n",
    "\n",
    "def probs(low_edge,high_edge):\n",
    "    prob1 = 1\n",
    "    prob2 = 0\n",
    "    if np.floor(high_edge)-np.floor(low_edge) == 1:\n",
    "        prob1 = np.ceil(low_edge)-low_edge\n",
    "        prob2 = high_edge-np.floor(high_edge)\n",
    "    norm = prob1+prob2\n",
    "    return [prob1/norm,prob2/norm]\n",
    "\n",
    "floors = [[int(np.floor(0.574*i)),int(np.floor(0.574*i))+1] for i in range(58)]\n",
    "\n",
    "EbE_bins = np.array([np.where(np.random.rand(int(1e6))<probs(0.574*i,0.574*(i+1))[0],floors[i][0],floors[i][1]) for i in range(58)])\n",
    "\n",
    "np.save('EbE_bins.npy',EbE_bins)"
   ]
  }
 ],
 "metadata": {
  "kernelspec": {
   "display_name": "Python 3",
   "language": "python",
   "name": "python3"
  },
  "language_info": {
   "codemirror_mode": {
    "name": "ipython",
    "version": 3
   },
   "file_extension": ".py",
   "mimetype": "text/x-python",
   "name": "python",
   "nbconvert_exporter": "python",
   "pygments_lexer": "ipython3",
   "version": "3.9.12"
  }
 },
 "nbformat": 4,
 "nbformat_minor": 5
}
