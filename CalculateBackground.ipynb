{
 "cells": [
  {
   "cell_type": "code",
   "execution_count": null,
   "id": "7ffa5620",
   "metadata": {},
   "outputs": [],
   "source": [
    "# This notebook can be used to calculate background rates, used in the measurements of integrated cross section.\n",
    "# They require the set of NuWro generated samples based on off-axis fluxes."
   ]
  },
  {
   "cell_type": "code",
   "execution_count": 1,
   "id": "907a9af3",
   "metadata": {},
   "outputs": [
    {
     "name": "stdout",
     "output_type": "stream",
     "text": [
      "Welcome to JupyROOT 6.30/04\n"
     ]
    }
   ],
   "source": [
    "import ROOT\n",
    "import numpy as np\n",
    "%jsroot on"
   ]
  },
  {
   "cell_type": "code",
   "execution_count": 2,
   "id": "e7228489",
   "metadata": {},
   "outputs": [],
   "source": [
    "path = '../SWAN_projects/XSec_ROOT/TTreeMerges/'\n",
    "files = [\"../XSec_ROOT/TTreeMerges/proj\"+str(i+1)+\"_merged.root\" for i in range(58)]"
   ]
  },
  {
   "cell_type": "code",
   "execution_count": null,
   "id": "fc7765cd",
   "metadata": {},
   "outputs": [],
   "source": [
    "bins = 58\n",
    "background_ratio = []\n",
    "\n",
    "for i in range(bins):\n",
    "    print(f\"Processing file {i+1}/{bins}...\")  # Progress indicator\n",
    "    file = ROOT.TFile.Open(files[i], \"READ\")\n",
    "    \n",
    "    if not file or file.IsZombie():\n",
    "        print(f\"Error: Could not open file {files[i]}\")\n",
    "        event_counts.append(0)  # Append 0 if file cannot be opened\n",
    "        continue\n",
    "    \n",
    "    t = file.Get(\"FlatTree_VARS\")\n",
    "    \n",
    "    if not t:\n",
    "        print(f\"Error: Tree 'FlatTree_VARS' not found in {files[i]}\")\n",
    "        event_counts.append(0)  # Append 0 if tree is missing\n",
    "        file.Close()\n",
    "        continue\n",
    "    \n",
    "    count_background = t.Draw(\"\",\"Enu_true > 4000 & Erecoil_minerva + ELep < 4000\")\n",
    "    total_counts = t.Draw(\"\",\"Erecoil_minerva + ELep < 4000\")\n",
    "\n",
    "    background_ratio.append(count_background/total_counts)\n",
    "    \n",
    "    file.Close()\n",
    "\n",
    "print(\"Event counts:\", background_ratio)\n"
   ]
  },
  {
   "cell_type": "code",
   "execution_count": null,
   "id": "c54673cb",
   "metadata": {},
   "outputs": [],
   "source": [
    "with open(\"background.txt\", \"w\") as f:\n",
    "    for number in background_ratio:\n",
    "        f.write(f\"{number}\\n\")  # Writes each number on a new line"
   ]
  }
 ],
 "metadata": {
  "kernelspec": {
   "display_name": "Python 3",
   "language": "python",
   "name": "python3"
  },
  "language_info": {
   "codemirror_mode": {
    "name": "ipython",
    "version": 3
   },
   "file_extension": ".py",
   "mimetype": "text/x-python",
   "name": "python",
   "nbconvert_exporter": "python",
   "pygments_lexer": "ipython3",
   "version": "3.9.12"
  }
 },
 "nbformat": 4,
 "nbformat_minor": 5
}
