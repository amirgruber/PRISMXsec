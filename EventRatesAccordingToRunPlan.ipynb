{
 "cells": [
  {
   "cell_type": "code",
   "execution_count": null,
   "id": "0697fed6",
   "metadata": {},
   "outputs": [],
   "source": [
    "# In this notebook we explicitly calculate yearly event rates according to the run plan specified and cited in the paper.\n",
    "# This can be used to produce norms.txt, which is required for ToysROOTtoNumpy.ipynb.\n",
    "# Prerequisites:\n",
    "# 1) xsecs.txt file containing scale factors from 58 different off-axis angles samples"
   ]
  },
  {
   "cell_type": "code",
   "execution_count": null,
   "id": "544ddb65",
   "metadata": {},
   "outputs": [],
   "source": [
    "import ROOT\n",
    "import numpy as np\n",
    "import matplotlib.pyplot as plt\n",
    "import csv\n",
    "import numpy.random as rnd\n",
    "from csv import reader\n",
    "from scipy.interpolate import interp2d\n",
    "import os\n",
    "import uproot as uproot\n",
    "import matplotlib.patches as mpatches\n",
    "import matplotlib.cm as cm\n",
    "from matplotlib.colors import Normalize\n",
    "import scipy.stats\n",
    "from sklearn import linear_model\n",
    "from scipy import optimize\n",
    "#import warnings; warnings.simplefilter('ignore')\n",
    "from matplotlib.pyplot import figure\n",
    "\n",
    "%jsroot on"
   ]
  },
  {
   "cell_type": "code",
   "execution_count": null,
   "id": "b7f5bfac",
   "metadata": {},
   "outputs": [],
   "source": [
    "with uproot.open(\"Fluxes.ND.root\") as fFluxes :\n",
    "    oa_flux = fFluxes['LBNF_numu_flux'].values()\n",
    "    energy_bins = fFluxes['LBNF_numu_flux'].axis(0).edges() # in GeV\n",
    "    angle_bins = fFluxes['LBNF_numu_flux'].axis(1).edges() # in milliradians\n",
    "\n",
    "oa_flux = oa_flux.transpose()\n",
    "first_bin_flux = 8.9769702e-08\n",
    "norm = (oa_flux[0].sum()/100)/first_bin_flux\n",
    "oa_flux = oa_flux/norm\n",
    "oa_flux = oa_flux.transpose()"
   ]
  },
  {
   "cell_type": "code",
   "execution_count": null,
   "id": "d116684f",
   "metadata": {},
   "outputs": [],
   "source": [
    "lar_dens = 1.3954 ##g/cm^3\n",
    "lar_mass_g = lar_dens*(2*3*0.574)*1e6 ##g\n",
    "lar_mass_kg = lar_mass_g*1e-3\n",
    "nucleons = lar_mass_kg/1.66e-27\n",
    "print(lar_mass_kg)\n",
    "print(nucleons)"
   ]
  },
  {
   "cell_type": "code",
   "execution_count": null,
   "id": "750650a6",
   "metadata": {},
   "outputs": [],
   "source": [
    "xsecs_string = open(\"../XSec_ROOT/xsecs.txt\", \"r\").read().split(\"\\n\")\n",
    "cross_section_norm = 1\n",
    "cross_section = cross_section_norm*1e-38*np.array([float(x) for x in xsecs_string])\n",
    "#N_target = 1.435e30 #[nucleon]\n",
    "N_target = nucleons\n",
    "E = (12/201)*1.1e21 #[POT per year]\n",
    "epsilon = 1\n",
    "cross_section = np.tile(cross_section, (oa_flux.shape[0],1))\n",
    "oa_events_original = oa_flux * cross_section * epsilon * E * N_target\n",
    "events_vector = np.array([oa_events_original[:,k].sum()/100 for k in range(oa_events_original.shape[1])])\n",
    "print(events_vector)\n",
    "plt.plot(events_vector)"
   ]
  },
  {
   "cell_type": "code",
   "execution_count": null,
   "id": "c2c3ec7c",
   "metadata": {},
   "outputs": [],
   "source": [
    "def write_list_to_file(values, filename=\"output.txt\"):\n",
    "    \"\"\"\n",
    "    Writes the elements of a list to a .txt file, each on a new line.\n",
    "\n",
    "    Args:\n",
    "        values (list): The list of values to write.\n",
    "        filename (str): The name of the output file (default: \"output.txt\").\n",
    "    \"\"\"\n",
    "    try:\n",
    "        with open(filename, \"w\") as file:\n",
    "            for value in values:\n",
    "                file.write(f\"{value}\\n\")\n",
    "        print(f\"List successfully written to {filename}\")\n",
    "    except Exception as e:\n",
    "        print(f\"An error occurred: {e}\")\n",
    "\n",
    "write_list_to_file(events_vector, \"norms.txt\")"
   ]
  }
 ],
 "metadata": {
  "kernelspec": {
   "display_name": "Python 3",
   "language": "python",
   "name": "python3"
  },
  "language_info": {
   "codemirror_mode": {
    "name": "ipython",
    "version": 3
   },
   "file_extension": ".py",
   "mimetype": "text/x-python",
   "name": "python",
   "nbconvert_exporter": "python",
   "pygments_lexer": "ipython3",
   "version": "3.9.12"
  }
 },
 "nbformat": 4,
 "nbformat_minor": 5
}
