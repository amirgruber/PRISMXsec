{
 "cells": [
  {
   "cell_type": "code",
   "execution_count": 2,
   "id": "7a52bc17",
   "metadata": {},
   "outputs": [],
   "source": [
    "# This notebook is used to randomly define the weights given to events based on the different uncertainty\n",
    "# components we take into account. The notebook produces a set of .txt files which can then be read by the\n",
    "# script that runs on the grid in order to produce different toys that reflect the uncertainty estimation."
   ]
  },
  {
   "cell_type": "code",
   "execution_count": null,
   "id": "9a982ceb",
   "metadata": {},
   "outputs": [],
   "source": [
    "from bisect import bisect as bisect\n",
    "import numpy as np\n",
    "from csv import reader\n",
    "import numpy.random as rnd\n",
    "import ROOT\n",
    "import os\n",
    "import time\n",
    "\n",
    "%jsroot on"
   ]
  },
  {
   "cell_type": "code",
   "execution_count": null,
   "id": "6334198f",
   "metadata": {},
   "outputs": [],
   "source": [
    "def create_toy_ratio(PCA_limit=100):\n",
    "    Nbins = np.genfromtxt('Nbins.csv', delimiter=',')[1:-2]\n",
    "    Nbins_sum = [Nbins[:i].sum() for i in range(len(Nbins))]\n",
    "    centers = []\n",
    "    with open('BinCenters.csv', 'r') as read_obj:\n",
    "        csv_reader = reader(read_obj)\n",
    "        for row in csv_reader:\n",
    "            centers.append(np.array(row).astype(float)[1:])\n",
    "    centers = centers[1:-1]\n",
    "    ## get uncertainties (PCs)\n",
    "    uncertainties = []\n",
    "    for k in range(PCA_limit):\n",
    "        file = ROOT.TFile.Open(\"param_pca_\"+str(k)+\"TH1.root\")\n",
    "        hist = file.Get(\"ND_nu_numu_1D\")\n",
    "        total = []\n",
    "        for i in range(len(Nbins)):\n",
    "            total.append([hist.GetBinContent(int(Nbins_sum[i]+j)) for j in range(int(Nbins[i]))])\n",
    "        uncertainties.append(total)\n",
    "    ## get beamline systematics\n",
    "    directory = os.getcwd()\n",
    "    for file in os.listdir(directory):\n",
    "        filename = os.fsdecode(file)\n",
    "        if filename.endswith(\"0TH1.root\"):\n",
    "            break\n",
    "        elif filename.endswith(\"TH1.root\") or filename.endswith(\".py\"): \n",
    "            file = ROOT.TFile.Open(filename)\n",
    "            hist = file.Get(\"ND_nu_numu_1D\")\n",
    "            total = []\n",
    "            for i in range(len(Nbins)):\n",
    "                total.append([hist.GetBinContent(int(Nbins_sum[i]+j)) for j in range(int(Nbins[i]))])\n",
    "            uncertainties.append(total)\n",
    "            continue\n",
    "        else:\n",
    "            continue\n",
    "    \n",
    "    total_dev = np.zeros(846) # total number of bins\n",
    "    for l in range(len(uncertainties)):\n",
    "        variation = rnd.normal()\n",
    "        uncertainties_1D = [uncertainties[l][i][j] for i in range(len(centers)) for j in range(len(centers[i]))]\n",
    "        uncertainties_varied = np.array([uncertainty_val*variation for uncertainty_val in uncertainties_1D])\n",
    "        total_dev += uncertainties_varied\n",
    "    total_dev_by_oabin = [np.array([total_dev[int(Nbins_sum[j]+i)] for i in range(int(Nbins[j]))]) for j in range(len(Nbins))]\n",
    "\n",
    "    return total_dev_by_oabin"
   ]
  },
  {
   "cell_type": "code",
   "execution_count": null,
   "id": "b9d9ae87",
   "metadata": {},
   "outputs": [],
   "source": [
    "toy_ratios = [] ##toy_ratios[toy_id][oa_bin][energy_bin]\n",
    "for i in range(1000):\n",
    "    if (i%100 == 0):\n",
    "        print(i)\n",
    "    toy_ratios.append(create_toy_ratio())\n",
    "\n",
    "weights = []\n",
    "for toy in toy_ratios:\n",
    "    toy_weights = []\n",
    "    for oa_bin in range(len(toy)):\n",
    "        toy_weights.append(1+toy[oa_bin])\n",
    "    weights.append(toy_weights)"
   ]
  },
  {
   "cell_type": "code",
   "execution_count": null,
   "id": "69cf8b5a",
   "metadata": {},
   "outputs": [],
   "source": [
    "for i in range(1000):\n",
    "    with open(r'NewToyWeights/toy'+str(i)+'weights.txt', 'w') as fp:\n",
    "        for oa_bin in weights[i]:\n",
    "            # write each item on a new line\n",
    "            oa_bin_str = [str(oa_bin[i]) for i in range(len(oa_bin))]\n",
    "            fp.write(\"%s\\n\" % oa_bin_str)"
   ]
  }
 ],
 "metadata": {
  "kernelspec": {
   "display_name": "Python 3",
   "language": "python",
   "name": "python3"
  },
  "language_info": {
   "codemirror_mode": {
    "name": "ipython",
    "version": 3
   },
   "file_extension": ".py",
   "mimetype": "text/x-python",
   "name": "python",
   "nbconvert_exporter": "python",
   "pygments_lexer": "ipython3",
   "version": "3.9.12"
  }
 },
 "nbformat": 4,
 "nbformat_minor": 5
}
