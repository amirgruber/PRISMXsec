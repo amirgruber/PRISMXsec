{
 "cells": [
  {
   "cell_type": "code",
   "execution_count": null,
   "id": "0e0e5cc5",
   "metadata": {},
   "outputs": [],
   "source": [
    "# This notebook merges the samples to one TTree per off-axis bin.\n",
    "# These files are later used by the toy generation script ToyGenerator.py"
   ]
  },
  {
   "cell_type": "code",
   "execution_count": null,
   "id": "bb2181c2",
   "metadata": {},
   "outputs": [],
   "source": [
    "import os\n",
    "import fnmatch\n",
    "import ROOT\n",
    "\n",
    "# Create the TTreeMerges folder if it doesn't exist\n",
    "output_folder = \"TTreeMerges\"\n",
    "os.makedirs(output_folder, exist_ok=True)\n",
    "\n",
    "for i in range(58):\n",
    "    print(f\"loop #{i} started\")\n",
    "    root_files_lst = []\n",
    "\n",
    "    # Walk through the directory to find root files\n",
    "    for root, dirs, files in os.walk(f\"/eos/project-n/neutrino-generators/generatorOutput/NuWro/PRISM_studies/SF/proj{i}\"):\n",
    "        for file in files:\n",
    "            if fnmatch.fnmatch(file, \"*flat*.root\"):\n",
    "                root_files_lst.append(os.path.join(root, file))\n",
    "\n",
    "    print(root_files_lst)\n",
    "    \n",
    "    # Create TChain\n",
    "    ch = ROOT.TChain(\"FlatTree_VARS\")\n",
    "    for file in root_files_lst:\n",
    "        ch.Add(file)\n",
    "\n",
    "    print(f\"starting merge #{i}\")\n",
    "\n",
    "    # Merge files into the TTreeMerges folder\n",
    "    output_file = os.path.join(output_folder, f\"proj{i}_merged.root\")\n",
    "    ch.Merge(output_file)\n",
    "    \n",
    "    print(f\"finished merge #{i}\")\n",
    "\n",
    "print(\"done!\")"
   ]
  }
 ],
 "metadata": {
  "kernelspec": {
   "display_name": "Python 3",
   "language": "python",
   "name": "python3"
  },
  "language_info": {
   "codemirror_mode": {
    "name": "ipython",
    "version": 3
   },
   "file_extension": ".py",
   "mimetype": "text/x-python",
   "name": "python",
   "nbconvert_exporter": "python",
   "pygments_lexer": "ipython3",
   "version": "3.9.12"
  }
 },
 "nbformat": 4,
 "nbformat_minor": 5
}
